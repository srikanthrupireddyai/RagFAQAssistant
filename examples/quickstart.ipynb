{
 "cells": [
  {
   "cell_type": "markdown",
   "metadata": {},
   "source": [
    "# RAG FAQ Assistant - Quickstart Guide\n",
    "\n",
    "This notebook demonstrates how to use the RAG FAQ Assistant to query documentation.\n",
    "\n",
    "## Setup\n",
    "\n",
    "First, make sure you've installed the necessary dependencies and prepared your documentation."
   ]
  },
  {
   "cell_type": "code",
   "execution_count": null,
   "metadata": {},
   "source": [
    "# Install dependencies if needed\n",
    "!pip install -r ../requirements.txt"
   ],
   "outputs": []
  },
  {
   "cell_type": "markdown",
   "metadata": {},
   "source": [
    "## Legal Disclaimer\n",
    "\n",
    "**Important:** This project is not affiliated with, endorsed by, or connected to Amazon Web Services. The documentation you process should be obtained according to the documentation provider's terms of service.\n",
    "\n",
    "For AWS documentation, please review the official AWS Documentation Terms: https://aws.amazon.com/terms/"
   ]
  },
  {
   "cell_type": "markdown",
   "metadata": {},
   "source": [
    "## 1. Creating Embeddings\n",
    "\n",
    "First, let's import the necessary modules and create embeddings for your documentation."
   ]
  },
  {
   "cell_type": "code",
   "execution_count": null,
   "metadata": {},
   "source": [
    "import sys\n",
    "import os\n",
    "sys.path.append('..')\n",
    "from pathlib import Path\n",
    "\n",
    "# Make sure raw_docs directory exists with your documentation files\n",
    "raw_docs_dir = Path('../raw_docs')\n",
    "if not raw_docs_dir.exists() or not any(raw_docs_dir.iterdir()):\n",
    "    print(\"Error: No documentation files found in raw_docs directory.\")\n",
    "    print(\"Please add documentation files to the raw_docs directory first.\")\n",
    "else:\n",
    "    print(f\"Found {len(list(raw_docs_dir.glob('*.txt')))} documentation files.\")"
   ],
   "outputs": []
  },
  {
   "cell_type": "code",
   "execution_count": null,
   "metadata": {},
   "source": [
    "# Import the embedding creation module\n",
    "from create_embeddings import create_embeddings\n",
    "\n",
    "# Create embeddings (this might take a few minutes depending on your documentation size)\n",
    "create_embeddings()"
   ],
   "outputs": []
  },
  {
   "cell_type": "markdown",
   "metadata": {},
   "source": [
    "## 2. Querying the Documentation\n",
    "\n",
    "Now that we have embeddings, let's ask some questions about the documentation."
   ]
  },
  {
   "cell_type": "code",
   "execution_count": null,
   "metadata": {},
   "source": [
    "from query_assistant import answer_question\n",
    "\n",
    "# Ask a question\n",
    "question = \"What are the five pillars of the AWS Well-Architected Framework?\"\n",
    "result = answer_question(question)\n",
    "\n",
    "print(f\"Question: {question}\\n\")\n",
    "print(f\"Answer:\\n{result['answer']}\\n\")\n",
    "print(\"Sources:\")\n",
    "for i, source in enumerate(result['sources']):\n",
    "    print(f\"  {i+1}. {source}\")"
   ],
   "outputs": []
  },
  {
   "cell_type": "markdown",
   "metadata": {},
   "source": [
    "## 3. Advanced Usage: Customizing the Retrieval\n",
    "\n",
    "You can customize how many documents are retrieved and how they're processed."
   ]
  },
  {
   "cell_type": "code",
   "execution_count": null,
   "metadata": {},
   "source": [
    "from query_assistant import create_retriever\n",
    "\n",
    "# Create a custom retriever with more results\n",
    "retriever = create_retriever(k=5)  # Get top 5 results instead of default 3\n",
    "\n",
    "# Ask a different question\n",
    "question = \"How does the Operational Excellence pillar improve workload quality?\"\n",
    "\n",
    "# Get results manually\n",
    "docs_and_scores = retriever.similarity_search_with_score(question)\n",
    "\n",
    "# Display results\n",
    "print(f\"Question: {question}\\n\")\n",
    "print(f\"Found {len(docs_and_scores)} relevant passages:\\n\")\n",
    "\n",
    "for i, (doc, score) in enumerate(docs_and_scores):\n",
    "    print(f\"Result {i+1} (Similarity: {score:.4f})\")\n",
    "    print(f\"Content: {doc.page_content}\\n\")\n",
    "    print(f\"Source: {doc.metadata.get('source', 'Unknown')}\")\n",
    "    print(\"-\" * 80)"
   ],
   "outputs": []
  },
  {
   "cell_type": "markdown",
   "metadata": {},
   "source": [
    "## 4. Using LLM-based Answering (Optional)\n",
    "\n",
    "If you have OpenAI API access configured, you can use the LLM-based answering feature.\n",
    "\n",
    "Note: This feature requires an OpenAI API key in your .env file."
   ]
  },
  {
   "cell_type": "code",
   "execution_count": null,
   "metadata": {},
   "source": [
    "# Check if OpenAI API key is available\n",
    "import os\n",
    "from dotenv import load_dotenv\n",
    "load_dotenv()\n",
    "\n",
    "if os.getenv(\"OPENAI_API_KEY\"):\n",
    "    from query_assistant import answer_question_with_llm\n",
    "    \n",
    "    question = \"What is the AWS Well-Architected Framework?\"\n",
    "    result = answer_question_with_llm(question)\n",
    "    \n",
    "    print(f\"Question: {question}\\n\")\n",
    "    print(f\"LLM Answer:\\n{result['answer']}\\n\")\n",
    "    print(\"Sources:\")\n",
    "    for i, source in enumerate(result['sources']):\n",
    "        print(f\"  {i+1}. {source}\")\n",
    "else:\n",
    "    print(\"OpenAI API key not found in .env file. LLM-based answering is not available.\")"
   ],
   "outputs": []
  },
  {
   "cell_type": "markdown",
   "metadata": {},
   "source": [
    "## Next Steps\n",
    "\n",
    "- Try with your own documentation\n",
    "- Experiment with different similarity thresholds\n",
    "- Contribute improvements to the project\n",
    "\n",
    "Thank you for using the RAG FAQ Assistant!"
   ]
  }
 ],
 "metadata": {
  "kernelspec": {
   "display_name": "Python 3",
   "language": "python",
   "name": "python3"
  },
  "language_info": {
   "codemirror_mode": {
    "name": "ipython",
    "version": 3
   },
   "file_extension": ".py",
   "mimetype": "text/x-python",
   "name": "python",
   "nbconvert_exporter": "python",
   "pygments_lexer": "ipython3",
   "version": "3.8.0"
  }
 },
 "nbformat": 4,
 "nbformat_minor": 4
}
